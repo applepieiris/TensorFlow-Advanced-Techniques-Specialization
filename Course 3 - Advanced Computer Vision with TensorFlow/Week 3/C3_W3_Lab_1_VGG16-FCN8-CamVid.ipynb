{
  "nbformat": 4,
  "nbformat_minor": 0,
  "metadata": {
    "accelerator": "GPU",
    "colab": {
      "name": "Copy of C3_W3_Lab_1_VGG16-FCN8-CamVid.ipynb",
      "private_outputs": true,
      "provenance": [],
      "collapsed_sections": [],
      "include_colab_link": true
    },
    "kernelspec": {
      "display_name": "Python 3",
      "language": "python",
      "name": "python3"
    },
    "language_info": {
      "codemirror_mode": {
        "name": "ipython",
        "version": 3
      },
      "file_extension": ".py",
      "mimetype": "text/x-python",
      "name": "python",
      "nbconvert_exporter": "python",
      "pygments_lexer": "ipython3",
      "version": "3.7.4"
    }
  },
  "cells": [
    {
      "cell_type": "markdown",
      "metadata": {
        "id": "view-in-github",
        "colab_type": "text"
      },
      "source": [
        "<a href=\"https://colab.research.google.com/github/applepieiris/TensorFlow-Advanced-Techniques-Specialization/blob/main/Course%203%20-%20Advanced%20Computer%20Vision%20with%20TensorFlow/Week%203/C3_W3_Lab_1_VGG16-FCN8-CamVid.ipynb\" target=\"_parent\"><img src=\"https://colab.research.google.com/assets/colab-badge.svg\" alt=\"Open In Colab\"/></a>"
      ]
    },
    {
      "cell_type": "markdown",
      "metadata": {
        "id": "NSFfcSDxhIS7"
      },
      "source": [
        "# Ungraded Lab: Fully Convolutional Neural Networks for Image Segmentation\n",
        "\n",
        "This notebook illustrates how to build a Fully Convolutional Neural Network for semantic image segmentation.\n",
        "\n",
        "You will train the model on a [custom dataset](https://drive.google.com/file/d/0B0d9ZiqAgFkiOHR1NTJhWVJMNEU/view?usp=sharing) prepared by [divamgupta](https://github.com/divamgupta/image-segmentation-keras). This contains video frames from a moving vehicle and is a subsample of the [CamVid](http://mi.eng.cam.ac.uk/research/projects/VideoRec/CamVid/) dataset. \n",
        "\n",
        "You will be using a pretrained VGG-16 network for the feature extraction path, then followed by an FCN-8 network for upsampling and generating the predictions. The output will be a label map (i.e. segmentation mask) with predictions for 12 classes. Let's begin!"
      ]
    },
    {
      "cell_type": "markdown",
      "metadata": {
        "id": "MZ3g9dJxSxmN"
      },
      "source": [
        "## Imports"
      ]
    },
    {
      "cell_type": "code",
      "metadata": {
        "id": "aifz2907kxYN"
      },
      "source": [
        "import os\n",
        "import zipfile\n",
        "import PIL.Image, PIL.ImageFont, PIL.ImageDraw\n",
        "import numpy as np\n",
        "\n",
        "try:\n",
        "  # %tensorflow_version only exists in Colab.\n",
        "  %tensorflow_version 2.x\n",
        "except Exception:\n",
        "  pass\n",
        "\n",
        "import tensorflow as tf\n",
        "from matplotlib import pyplot as plt\n",
        "import tensorflow_datasets as tfds\n",
        "import seaborn as sns\n",
        "\n",
        "print(\"Tensorflow version \" + tf.__version__)"
      ],
      "execution_count": null,
      "outputs": []
    },
    {
      "cell_type": "markdown",
      "metadata": {
        "id": "3sLz8mI2S62W"
      },
      "source": [
        "## Download the Dataset"
      ]
    },
    {
      "cell_type": "markdown",
      "metadata": {
        "id": "fwC8gfP6jTZC"
      },
      "source": [
        "We hosted the dataset in a Google bucket so you will need to download it first and unzip to a local directory."
      ]
    },
    {
      "cell_type": "code",
      "metadata": {
        "id": "1Z5V1XMBNJso"
      },
      "source": [
        "# download the dataset (zipped file)\n",
        "!wget --no-check-certificate \\\n",
        "    https://storage.googleapis.com/laurencemoroney-blog.appspot.com/fcnn-dataset.zip \\\n",
        "    -O /tmp/fcnn-dataset.zip\n",
        "\n",
        "# extract the downloaded dataset to a local directory: /tmp/fcnn\n",
        "local_zip = '/tmp/fcnn-dataset.zip'\n",
        "zip_ref = zipfile.ZipFile(local_zip, 'r')\n",
        "zip_ref.extractall('/tmp/fcnn')\n",
        "zip_ref.close()"
      ],
      "execution_count": null,
      "outputs": []
    },
    {
      "cell_type": "markdown",
      "metadata": {
        "id": "10uOBZzfMrqZ"
      },
      "source": [
        "The dataset you just downloaded contains folders for images and annotations. The *images* contain the video frames while the *annotations* contain the pixel-wise label maps. Each label map has the shape `(height, width , 1)` with each point in this space denoting the corresponding pixel's class. Classes are in the range `[0, 11]` (i.e. 12 classes) and the pixel labels correspond to these classes:\n",
        "\n",
        "| Value  | Class Name    |\n",
        "| -------| -------------| \n",
        "| 0      | sky |\n",
        "| 1      | building      |\n",
        "| 2      | column/pole      |\n",
        "| 3      | road |\n",
        "| 4      | side walk     |\n",
        "| 5      | vegetation      |\n",
        "| 6      | traffic light |\n",
        "| 7      | fence      |\n",
        "| 8      | vehicle     |\n",
        "| 9      | pedestrian |\n",
        "| 10      | byciclist      |\n",
        "| 11      | void      |\n",
        "\n",
        "For example, if a pixel is part of a road, then that point will be labeled `3` in the label map. Run the cell below to create a list containing the class names:\n",
        "- Note: bicyclist is mispelled as 'byciclist' in the dataset.  We won't handle data cleaning in this example, but you can inspect and clean the data if you want to use this as a starting point for a personal project."
      ]
    },
    {
      "cell_type": "code",
      "metadata": {
        "id": "OlK0lVK_-Z46"
      },
      "source": [
        "# pixel labels in the video frames\n",
        "class_names = ['sky', 'building','column/pole', 'road', 'side walk', 'vegetation', 'traffic light', 'fence', 'vehicle', 'pedestrian', 'byciclist', 'void']"
      ],
      "execution_count": null,
      "outputs": []
    },
    {
      "cell_type": "markdown",
      "metadata": {
        "id": "Mi0NcGqESgj2"
      },
      "source": [
        "## Load and Prepare the Dataset"
      ]
    },
    {
      "cell_type": "markdown",
      "metadata": {
        "id": "OsRr8WWIjwTg"
      },
      "source": [
        "\n",
        "Next, you will load and prepare the train and validation sets for training. There are some preprocessing steps needed before the data is fed to the model. These include:\n",
        "\n",
        "* resizing the height and width of the input images and label maps (224 x 224px by default)\n",
        "* normalizing the input images' pixel values to fall in the range `[-1, 1]`\n",
        "* reshaping the label maps from `(height, width, 1)` to `(height, width, 12)` with each slice along the third axis having `1` if it belongs to the class corresponding to that slice's index else `0`. For example, if a pixel is part of a road, then using the table above, that point at slice #3 will be labeled `1` and it will be `0` in all other slices. To illustrate using simple arrays:\n",
        "```\n",
        "# if we have a label map with 3 classes...\n",
        "n_classes = 3\n",
        "# and this is the original annotation...\n",
        "orig_anno = [0 1 2]\n",
        "# then the reshaped annotation will have 3 slices and its contents will look like this:\n",
        "reshaped_anno = [1 0 0][0 1 0][0 0 1]\n",
        "```\n",
        "\n",
        "The following function will do the preprocessing steps mentioned above.\n"
      ]
    },
    {
      "cell_type": "code",
      "metadata": {
        "id": "Lsc-_7Xu_twj"
      },
      "source": [
        "def map_filename_to_image_and_mask(t_filename, a_filename, height=224, width=224):\n",
        "  '''\n",
        "  Preprocesses the dataset by:\n",
        "    * resizing the input image and label maps\n",
        "    * normalizing the input image pixels\n",
        "    * reshaping the label maps from (height, width, 1) to (height, width, 12)\n",
        "\n",
        "  Args:\n",
        "    t_filename (string) -- path to the raw input image\n",
        "    a_filename (string) -- path to the raw annotation (label map) file\n",
        "    height (int) -- height in pixels to resize to\n",
        "    width (int) -- width in pixels to resize to\n",
        "\n",
        "  Returns:\n",
        "    image (tensor) -- preprocessed image\n",
        "    annotation (tensor) -- preprocessed annotation\n",
        "  '''\n",
        "\n",
        "  # Convert image and mask files to tensors \n",
        "  img_raw = tf.io.read_file(t_filename)\n",
        "  anno_raw = tf.io.read_file(a_filename)\n",
        "  image = tf.image.decode_jpeg(img_raw)\n",
        "  annotation = tf.image.decode_jpeg(anno_raw)\n",
        " \n",
        "  # Resize image and segmentation mask\n",
        "  image = tf.image.resize(image, (height, width,))\n",
        "  annotation = tf.image.resize(annotation, (height, width,))\n",
        "  image = tf.reshape(image, (height, width, 3,))\n",
        "  annotation = tf.cast(annotation, dtype=tf.int32)\n",
        "  annotation = tf.reshape(annotation, (height, width, 1,))\n",
        "  stack_list = []\n",
        "\n",
        "  # Reshape segmentation masks\n",
        "  for c in range(len(class_names)):\n",
        "    mask = tf.equal(annotation[:,:,0], tf.constant(c))\n",
        "    stack_list.append(tf.cast(mask, dtype=tf.int32))\n",
        "  \n",
        "  annotation = tf.stack(stack_list, axis=2)\n",
        "\n",
        "  # Normalize pixels in the input image\n",
        "  image = image/127.5\n",
        "  image -= 1\n",
        "\n",
        "  return image, annotation"
      ],
      "execution_count": null,
      "outputs": []
    },
    {
      "cell_type": "markdown",
      "metadata": {
        "id": "fK9tYK28lUhx"
      },
      "source": [
        "The dataset also already has separate folders for train and test sets. As described earlier, these sets will have two folders: one corresponding to the images, and the other containing the annotations. "
      ]
    },
    {
      "cell_type": "code",
      "metadata": {
        "id": "k5Z8UbTQGRcC"
      },
      "source": [
        "# show folders inside the dataset you downloaded\n",
        "!ls /tmp/fcnn/dataset1"
      ],
      "execution_count": null,
      "outputs": []
    },
    {
      "cell_type": "markdown",
      "metadata": {
        "id": "eal6745BGkV7"
      },
      "source": [
        "You will use the following functions to create the tensorflow datasets from the images in these folders. Notice that before creating the batches in the `get_training_dataset()` and `get_validation_set()`, the images are first preprocessed using the `map_filename_to_image_and_mask()` function you defined earlier."
      ]
    },
    {
      "cell_type": "code",
      "metadata": {
        "id": "S8YE6w9g-ZEF"
      },
      "source": [
        "# Utilities for preparing the datasets\n",
        "\n",
        "BATCH_SIZE = 64\n",
        "\n",
        "def get_dataset_slice_paths(image_dir, label_map_dir):\n",
        "  '''\n",
        "  generates the lists of image and label map paths\n",
        "  \n",
        "  Args:\n",
        "    image_dir (string) -- path to the input images directory\n",
        "    label_map_dir (string) -- path to the label map directory\n",
        "\n",
        "  Returns:\n",
        "    image_paths (list of strings) -- paths to each image file\n",
        "    label_map_paths (list of strings) -- paths to each label map\n",
        "  '''\n",
        "  image_file_list = os.listdir(image_dir)\n",
        "  label_map_file_list = os.listdir(label_map_dir)\n",
        "  image_paths = [os.path.join(image_dir, fname) for fname in image_file_list]\n",
        "  label_map_paths = [os.path.join(label_map_dir, fname) for fname in label_map_file_list]\n",
        "\n",
        "  return image_paths, label_map_paths\n",
        "\n",
        "\n",
        "def get_training_dataset(image_paths, label_map_paths):\n",
        "  '''\n",
        "  Prepares shuffled batches of the training set.\n",
        "  \n",
        "  Args:\n",
        "    image_paths (list of strings) -- paths to each image file in the train set\n",
        "    label_map_paths (list of strings) -- paths to each label map in the train set\n",
        "\n",
        "  Returns:\n",
        "    tf Dataset containing the preprocessed train set\n",
        "  '''\n",
        "  training_dataset = tf.data.Dataset.from_tensor_slices((image_paths, label_map_paths))\n",
        "  training_dataset = training_dataset.map(map_filename_to_image_and_mask)\n",
        "  training_dataset = training_dataset.shuffle(100, reshuffle_each_iteration=True)\n",
        "  training_dataset = training_dataset.batch(BATCH_SIZE)\n",
        "  training_dataset = training_dataset.repeat()\n",
        "  training_dataset = training_dataset.prefetch(-1)\n",
        "\n",
        "  return training_dataset\n",
        "\n",
        "\n",
        "def get_validation_dataset(image_paths, label_map_paths):\n",
        "  '''\n",
        "  Prepares batches of the validation set.\n",
        "  \n",
        "  Args:\n",
        "    image_paths (list of strings) -- paths to each image file in the val set\n",
        "    label_map_paths (list of strings) -- paths to each label map in the val set\n",
        "\n",
        "  Returns:\n",
        "    tf Dataset containing the preprocessed validation set\n",
        "  '''\n",
        "  validation_dataset = tf.data.Dataset.from_tensor_slices((image_paths, label_map_paths))\n",
        "  validation_dataset = validation_dataset.map(map_filename_to_image_and_mask)\n",
        "  validation_dataset = validation_dataset.batch(BATCH_SIZE)\n",
        "  validation_dataset = validation_dataset.repeat()  \n",
        "\n",
        "  return validation_dataset\n"
      ],
      "execution_count": null,
      "outputs": []
    },
    {
      "cell_type": "markdown",
      "metadata": {
        "id": "FWnstwNEiXa0"
      },
      "source": [
        "You can now generate the training and validation sets by running the cell below."
      ]
    },
    {
      "cell_type": "code",
      "metadata": {
        "id": "skVGwEPmeiwz"
      },
      "source": [
        "# get the paths to the images\n",
        "training_image_paths, training_label_map_paths = get_dataset_slice_paths('/tmp/fcnn/dataset1/images_prepped_train/','/tmp/fcnn/dataset1/annotations_prepped_train/')\n",
        "validation_image_paths, validation_label_map_paths = get_dataset_slice_paths('/tmp/fcnn/dataset1/images_prepped_test/','/tmp/fcnn/dataset1/annotations_prepped_test/')\n",
        "\n",
        "# generate the train and val sets\n",
        "training_dataset = get_training_dataset(training_image_paths, training_label_map_paths)\n",
        "validation_dataset = get_validation_dataset(validation_image_paths, validation_label_map_paths)"
      ],
      "execution_count": null,
      "outputs": []
    },
    {
      "cell_type": "markdown",
      "metadata": {
        "id": "gu9v343Pa4Eg"
      },
      "source": [
        "## Let's Take a Look at the Dataset"
      ]
    },
    {
      "cell_type": "markdown",
      "metadata": {
        "id": "ad3a1E7JjNXc"
      },
      "source": [
        "You will also need utilities to help visualize the dataset and the model predictions later. First, you need to assign a color mapping to the classes in the label maps. Since our dataset has 12 classes, you need to have a list of 12 colors. We can use the [color_palette()](https://seaborn.pydata.org/generated/seaborn.color_palette.html) from Seaborn to generate this."
      ]
    },
    {
      "cell_type": "code",
      "metadata": {
        "id": "KuciRFRpajTe"
      },
      "source": [
        "# generate a list that contains one color for each class\n",
        "colors = sns.color_palette(None, len(class_names))\n",
        "\n",
        "# print class name - normalized RGB tuple pairs\n",
        "# the tuple values will be multiplied by 255 in the helper functions later\n",
        "# to convert to the (0,0,0) to (255,255,255) RGB values you might be familiar with\n",
        "for class_name, color in zip(class_names, colors):\n",
        "  print(f'{class_name} -- {color}')"
      ],
      "execution_count": null,
      "outputs": []
    },
    {
      "cell_type": "code",
      "metadata": {
        "id": "d46YCbvPafbp"
      },
      "source": [
        "# Visualization Utilities\n",
        "\n",
        "def fuse_with_pil(images):\n",
        "  '''\n",
        "  Creates a blank image and pastes input images\n",
        "\n",
        "  Args:\n",
        "    images (list of numpy arrays) - numpy array representations of the images to paste\n",
        "  \n",
        "  Returns:\n",
        "    PIL Image object containing the images\n",
        "  '''\n",
        "\n",
        "  widths = (image.shape[1] for image in images)\n",
        "  heights = (image.shape[0] for image in images)\n",
        "  total_width = sum(widths)\n",
        "  max_height = max(heights)\n",
        "\n",
        "  new_im = PIL.Image.new('RGB', (total_width, max_height))\n",
        "\n",
        "  x_offset = 0\n",
        "  for im in images:\n",
        "    pil_image = PIL.Image.fromarray(np.uint8(im))\n",
        "    new_im.paste(pil_image, (x_offset,0))\n",
        "    x_offset += im.shape[1]\n",
        "  \n",
        "  return new_im\n",
        "\n",
        "\n",
        "def give_color_to_annotation(annotation):\n",
        "  '''\n",
        "  Converts a 2-D annotation to a numpy array with shape (height, width, 3) where\n",
        "  the third axis represents the color channel. The label values are multiplied by\n",
        "  255 and placed in this axis to give color to the annotation\n",
        "\n",
        "  Args:\n",
        "    annotation (numpy array) - label map array\n",
        "  \n",
        "  Returns:\n",
        "    the annotation array with an additional color channel/axis\n",
        "  '''\n",
        "  seg_img = np.zeros( (annotation.shape[0],annotation.shape[1], 3) ).astype('float')\n",
        "  \n",
        "  for c in range(12):\n",
        "    segc = (annotation == c)\n",
        "    seg_img[:,:,0] += segc*( colors[c][0] * 255.0)\n",
        "    seg_img[:,:,1] += segc*( colors[c][1] * 255.0)\n",
        "    seg_img[:,:,2] += segc*( colors[c][2] * 255.0)\n",
        "  \n",
        "  return seg_img\n",
        "\n",
        "\n",
        "def show_predictions(image, labelmaps, titles, iou_list, dice_score_list):\n",
        "  '''\n",
        "  Displays the images with the ground truth and predicted label maps\n",
        "\n",
        "  Args:\n",
        "    image (numpy array) -- the input image\n",
        "    labelmaps (list of arrays) -- contains the predicted and ground truth label maps\n",
        "    titles (list of strings) -- display headings for the images to be displayed\n",
        "    iou_list (list of floats) -- the IOU values for each class\n",
        "    dice_score_list (list of floats) -- the Dice Score for each vlass\n",
        "  '''\n",
        "\n",
        "  true_img = give_color_to_annotation(labelmaps[1])\n",
        "  pred_img = give_color_to_annotation(labelmaps[0])\n",
        "\n",
        "  image = image + 1\n",
        "  image = image * 127.5\n",
        "  images = np.uint8([image, pred_img, true_img])\n",
        "\n",
        "  metrics_by_id = [(idx, iou, dice_score) for idx, (iou, dice_score) in enumerate(zip(iou_list, dice_score_list)) if iou > 0.0]\n",
        "  metrics_by_id.sort(key=lambda tup: tup[1], reverse=True)  # sorts in place\n",
        "  \n",
        "  display_string_list = [\"{}: IOU: {} Dice Score: {}\".format(class_names[idx], iou, dice_score) for idx, iou, dice_score in metrics_by_id]\n",
        "  display_string = \"\\n\\n\".join(display_string_list) \n",
        "\n",
        "  plt.figure(figsize=(15, 4))\n",
        "\n",
        "  for idx, im in enumerate(images):\n",
        "    plt.subplot(1, 3, idx+1)\n",
        "    if idx == 1:\n",
        "      plt.xlabel(display_string)\n",
        "    plt.xticks([])\n",
        "    plt.yticks([])\n",
        "    plt.title(titles[idx], fontsize=12)\n",
        "    plt.imshow(im)\n",
        "\n",
        "\n",
        "def show_annotation_and_image(image, annotation):\n",
        "  '''\n",
        "  Displays the image and its annotation side by side\n",
        "\n",
        "  Args:\n",
        "    image (numpy array) -- the input image\n",
        "    annotation (numpy array) -- the label map\n",
        "  '''\n",
        "  new_ann = np.argmax(annotation, axis=2)\n",
        "  seg_img = give_color_to_annotation(new_ann)\n",
        "  \n",
        "  image = image + 1\n",
        "  image = image * 127.5\n",
        "  image = np.uint8(image)\n",
        "  images = [image, seg_img]\n",
        "  \n",
        "  images = [image, seg_img]\n",
        "  fused_img = fuse_with_pil(images)\n",
        "  plt.imshow(fused_img)\n",
        "\n",
        "\n",
        "def list_show_annotation(dataset):\n",
        "  '''\n",
        "  Displays images and its annotations side by side\n",
        "\n",
        "  Args:\n",
        "    dataset (tf Dataset) - batch of images and annotations\n",
        "  '''\n",
        "\n",
        "  ds = dataset.unbatch()\n",
        "  ds = ds.shuffle(buffer_size=100)\n",
        "\n",
        "  plt.figure(figsize=(25, 15))\n",
        "  plt.title(\"Images And Annotations\")\n",
        "  plt.subplots_adjust(bottom=0.1, top=0.9, hspace=0.05)\n",
        "\n",
        "  # we set the number of image-annotation pairs to 9\n",
        "  # feel free to make this a function parameter if you want\n",
        "  for idx, (image, annotation) in enumerate(ds.take(9)):\n",
        "    plt.subplot(3, 3, idx + 1)\n",
        "    plt.yticks([])\n",
        "    plt.xticks([])\n",
        "    show_annotation_and_image(image.numpy(), annotation.numpy())\n",
        "\n",
        " "
      ],
      "execution_count": null,
      "outputs": []
    },
    {
      "cell_type": "markdown",
      "metadata": {
        "id": "cK621Jm8bJyj"
      },
      "source": [
        "\n",
        "Please run the cells below to see sample images from the train and validation sets. You will see the image and the label maps side side by side."
      ]
    },
    {
      "cell_type": "code",
      "metadata": {
        "id": "AFO_hIhLWYT4"
      },
      "source": [
        "list_show_annotation(training_dataset)"
      ],
      "execution_count": null,
      "outputs": []
    },
    {
      "cell_type": "code",
      "metadata": {
        "id": "bdgVkp8wZua0"
      },
      "source": [
        "list_show_annotation(validation_dataset)"
      ],
      "execution_count": null,
      "outputs": []
    },
    {
      "cell_type": "markdown",
      "metadata": {
        "id": "QFv2k8xabRb8"
      },
      "source": [
        "## Define the Model\n",
        "\n",
        "You will now build the model and prepare it for training. AS mentioned earlier, this will use a VGG-16 network for the encoder and FCN-8 for the decoder. This is the diagram as shown in class:\n",
        "\n",
        "<img src='https://drive.google.com/uc?export=view&id=1lrqB4YegV8jXWNfyYAaeuFlwXIc54aRP' alt='fcn-8'>\n",
        "\n",
        "For this exercise, you will notice a slight difference from the lecture because the dataset images are 224x224 instead of 32x32. You'll see how this is handled in the next cells as you build the encoder."
      ]
    },
    {
      "cell_type": "markdown",
      "metadata": {
        "id": "HHB1BGmF965d"
      },
      "source": [
        "### Define Pooling Block of VGG"
      ]
    },
    {
      "cell_type": "markdown",
      "metadata": {
        "id": "TWnI0IcNxNRh"
      },
      "source": [
        "As you saw in Course 1 of this specialization, VGG networks have repeating blocks so to make the code neat, it's best to create a function to encapsulate this process. Each block has convolutional layers followed by a max pooling layer which downsamples the image."
      ]
    },
    {
      "cell_type": "code",
      "metadata": {
        "id": "pL578pjdmXXf"
      },
      "source": [
        "def block(x, n_convs, filters, kernel_size, activation, pool_size, pool_stride, block_name):\n",
        "  '''\n",
        "  Defines a block in the VGG network.\n",
        "\n",
        "  Args:\n",
        "    x (tensor) -- input image\n",
        "    n_convs (int) -- number of convolution layers to append\n",
        "    filters (int) -- number of filters for the convolution layers\n",
        "    activation (string or object) -- activation to use in the convolution\n",
        "    pool_size (int) -- size of the pooling layer\n",
        "    pool_stried (int) -- stride of the pooling layer\n",
        "    block_name (string) -- name of the block\n",
        "\n",
        "  Returns:\n",
        "    tensor containing the max-pooled output of the convolutions\n",
        "  '''\n",
        "\n",
        "  for i in range(n_convs):\n",
        "      x = tf.keras.layers.Conv2D(filters=filters, kernel_size=kernel_size, activation=activation, padding='same', name=\"{}_conv{}\".format(block_name, i + 1))(x)\n",
        "    \n",
        "  x = tf.keras.layers.MaxPooling2D(pool_size=pool_size, strides=pool_stride, name=\"{}_pool{}\".format(block_name, i+1 ))(x)\n",
        "\n",
        "  return x\n"
      ],
      "execution_count": null,
      "outputs": []
    },
    {
      "cell_type": "markdown",
      "metadata": {
        "id": "Lm_8Jp4PbVV5"
      },
      "source": [
        "### Download VGG weights\n",
        "\n",
        "First, please run the cell below to get pre-trained weights for VGG-16. You will load this in the next section when you build the encoder network."
      ]
    },
    {
      "cell_type": "code",
      "metadata": {
        "id": "vKPpXapoYxAc"
      },
      "source": [
        "# download the weights\n",
        "!wget https://github.com/fchollet/deep-learning-models/releases/download/v0.1/vgg16_weights_tf_dim_ordering_tf_kernels_notop.h5\n",
        "\n",
        "# assign to a variable\n",
        "vgg_weights_path = \"vgg16_weights_tf_dim_ordering_tf_kernels_notop.h5\""
      ],
      "execution_count": null,
      "outputs": []
    },
    {
      "cell_type": "markdown",
      "metadata": {
        "id": "ZLeQCxf99_tn"
      },
      "source": [
        "### Define VGG-16\n",
        "\n",
        "You can build the encoder as shown below. \n",
        "\n",
        "* You will create 5 blocks with increasing number of filters at each stage. \n",
        "* The number of convolutions, filters, kernel size, activation, pool size and pool stride will remain constant.\n",
        "* You will load the pretrained weights after creating the VGG 16 network.\n",
        "* Additional convolution layers will be appended to extract more features.\n",
        "* The output will contain the output of the last layer and the previous four convolution blocks.\n",
        "\n",
        "![vgg16.png](data:image/png;base64,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)"
      ]
    },
    {
      "cell_type": "code",
      "metadata": {
        "id": "Z4_WZnAmoOnZ"
      },
      "source": [
        "def VGG_16(image_input):\n",
        "  '''\n",
        "  This function defines the VGG encoder.\n",
        "\n",
        "  Args:\n",
        "    image_input (tensor) - batch of images\n",
        "\n",
        "  Returns:\n",
        "    tuple of tensors - output of all encoder blocks plus the final convolution layer\n",
        "  '''\n",
        "\n",
        "  # create 5 blocks with increasing filters at each stage. \n",
        "  # you will save the output of each block (i.e. p1, p2, p3, p4, p5). \"p\" stands for the pooling layer.\n",
        "  x = block(image_input,n_convs=2, filters=64, kernel_size=(3,3), activation='relu',pool_size=(2,2), pool_stride=(2,2), block_name='block1')  # (None,112,112,64)\n",
        "  p1= x\n",
        "\n",
        "  x = block(x,n_convs=2, filters=128, kernel_size=(3,3), activation='relu',pool_size=(2,2), pool_stride=(2,2), block_name='block2') # (None,56,56,128)\n",
        "  p2 = x\n",
        "\n",
        "  x = block(x,n_convs=3, filters=256, kernel_size=(3,3), activation='relu',pool_size=(2,2), pool_stride=(2,2), block_name='block3') # (None,28,28,256)\n",
        "  p3 = x\n",
        "\n",
        "  x = block(x,n_convs=3, filters=512, kernel_size=(3,3), activation='relu',pool_size=(2,2), pool_stride=(2,2), block_name='block4') # (None,14,14,512)\n",
        "  p4 = x\n",
        "\n",
        "  x = block(x,n_convs=3, filters=512, kernel_size=(3,3), activation='relu',pool_size=(2,2), pool_stride=(2,2), block_name='block5') # 最终的输出是(None,7,7,512)\n",
        "  p5 = x\n",
        "\n",
        "  # create the vgg model\n",
        "  vgg  = tf.keras.Model(image_input , p5)\n",
        "\n",
        "  # load the pretrained weights you downloaded earlier\n",
        "  vgg.load_weights(vgg_weights_path)\n",
        "\n",
        "  # vgg.summary() \n",
        "\n",
        "  # number of filters for the output convolutional layers\n",
        "  n = 4096\n",
        "\n",
        "  # our input images are 224x224 pixels so they will be downsampled to 7x7 after the pooling layers above.\n",
        "  # we can extract more features by chaining two more convolution layers.\n",
        "  c6 = tf.keras.layers.Conv2D( n , ( 7 , 7 ) , activation='relu' , padding='same', name=\"conv6\")(p5)\n",
        "  c7 = tf.keras.layers.Conv2D( n , ( 1 , 1 ) , activation='relu' , padding='same', name=\"conv7\")(c6)\n",
        "\n",
        "  # return the outputs at each stage. you will only need two of these in this particular exercise \n",
        "  # but we included it all in case you want to experiment with other types of decoders.\n",
        "  return (p1, p2, p3, p4, c7)"
      ],
      "execution_count": null,
      "outputs": []
    },
    {
      "cell_type": "code",
      "source": [
        "inputs = tf.keras.layers.Input(shape=(224,224,3,))\n",
        "convs = VGG_16(image_input=inputs)"
      ],
      "metadata": {
        "id": "aLt6QrN8ambq"
      },
      "execution_count": null,
      "outputs": []
    },
    {
      "cell_type": "markdown",
      "metadata": {
        "id": "45pH17d__KUW"
      },
      "source": [
        "### Define FCN 8 Decoder\n",
        "\n",
        "Next, you will build the decoder using deconvolution layers. Please refer to the diagram for FCN-8 at the start of this section to visualize what the code below is doing. It will involve two summations before upsampling to the original image size and generating the predicted mask."
      ]
    },
    {
      "cell_type": "code",
      "metadata": {
        "id": "hX2V0E2gs-ZQ"
      },
      "source": [
        "def fcn8_decoder(convs, n_classes):\n",
        "  '''\n",
        "  Defines the FCN 8 decoder.\n",
        "\n",
        "  Args:\n",
        "    convs (tuple of tensors) - output of the encoder network\n",
        "    n_classes (int) - number of classes\n",
        "\n",
        "  Returns:\n",
        "    tensor with shape (height, width, n_classes) containing class probabilities\n",
        "  '''\n",
        "\n",
        "  # unpack the output of the encoder\n",
        "  f1, f2, f3, f4, f5 = convs\n",
        "  \n",
        "  # upsample the output of the encoder then crop extra pixels that were introduced\n",
        "  o = tf.keras.layers.Conv2DTranspose(n_classes , kernel_size=(4,4) ,  strides=(2,2) , use_bias=False )(f5)\n",
        "  o = tf.keras.layers.Cropping2D(cropping=(1,1))(o)\n",
        "\n",
        "  # load the pool 4 prediction and do a 1x1 convolution to reshape it to the same shape of `o` above\n",
        "  o2 = f4\n",
        "  o2 = ( tf.keras.layers.Conv2D(n_classes , ( 1 , 1 ) , activation='relu' , padding='same'))(o2)\n",
        "\n",
        "  # add the results of the upsampling and pool 4 prediction\n",
        "  o = tf.keras.layers.Add()([o, o2])\n",
        "\n",
        "  # upsample the resulting tensor of the operation you just did\n",
        "  o = (tf.keras.layers.Conv2DTranspose( n_classes , kernel_size=(4,4) ,  strides=(2,2) , use_bias=False ))(o)\n",
        "  o = tf.keras.layers.Cropping2D(cropping=(1, 1))(o)\n",
        "\n",
        "  # load the pool 3 prediction and do a 1x1 convolution to reshape it to the same shape of `o` above\n",
        "  o2 = f3\n",
        "  o2 = ( tf.keras.layers.Conv2D(n_classes , ( 1 , 1 ) , activation='relu' , padding='same'))(o2)\n",
        "\n",
        "  # add the results of the upsampling and pool 3 prediction\n",
        "  o = tf.keras.layers.Add()([o, o2])\n",
        "  \n",
        "  # upsample up to the size of the original image\n",
        "  o = tf.keras.layers.Conv2DTranspose(n_classes , kernel_size=(8,8) ,  strides=(8,8) , use_bias=False )(o)\n",
        "\n",
        "  # append a softmax to get the class probabilities\n",
        "  o = (tf.keras.layers.Activation('softmax'))(o)\n",
        "\n",
        "  return o"
      ],
      "execution_count": null,
      "outputs": []
    },
    {
      "cell_type": "markdown",
      "metadata": {
        "id": "yyn3xXSf_Ogl"
      },
      "source": [
        "### Define Final Model\n",
        "\n",
        "You can now build the final model by connecting the encoder and decoder blocks."
      ]
    },
    {
      "cell_type": "code",
      "metadata": {
        "id": "T29n8_dbuZNm"
      },
      "source": [
        "def segmentation_model():\n",
        "  '''\n",
        "  Defines the final segmentation model by chaining together the encoder and decoder.\n",
        "\n",
        "  Returns:\n",
        "    keras Model that connects the encoder and decoder networks of the segmentation model\n",
        "  '''\n",
        "  \n",
        "  inputs = tf.keras.layers.Input(shape=(224,224,3,))\n",
        "  convs = VGG_16(image_input=inputs)\n",
        "  outputs = fcn8_decoder(convs, 12)\n",
        "  model = tf.keras.Model(inputs=inputs, outputs=outputs)\n",
        "  \n",
        "  return model\n"
      ],
      "execution_count": null,
      "outputs": []
    },
    {
      "cell_type": "code",
      "metadata": {
        "id": "_w8qNGG1vQHZ"
      },
      "source": [
        "# instantiate the model and see how it looks\n",
        "model = segmentation_model()\n",
        "model.summary()"
      ],
      "execution_count": null,
      "outputs": []
    },
    {
      "cell_type": "markdown",
      "metadata": {
        "id": "dekOKLw0_Rgg"
      },
      "source": [
        "### Compile the Model"
      ]
    },
    {
      "cell_type": "markdown",
      "metadata": {
        "id": "6cAcCHkyxqt4"
      },
      "source": [
        "Next, the model will be configured for training. You will need to specify the loss, optimizer and metrics. You will use `categorical_crossentropy` as the loss function since the label map is transformed to one hot encoded vectors for each pixel in the image (i.e. `1` in one slice and `0` for other slices as described earlier)."
      ]
    },
    {
      "cell_type": "code",
      "metadata": {
        "id": "ZpWpp8h4g_rE"
      },
      "source": [
        "sgd = tf.keras.optimizers.SGD(lr=1E-2, momentum=0.9, nesterov=True)\n",
        "\n",
        "model.compile(loss='categorical_crossentropy',\n",
        "              optimizer=sgd,\n",
        "              metrics=['accuracy'])"
      ],
      "execution_count": null,
      "outputs": []
    },
    {
      "cell_type": "markdown",
      "metadata": {
        "id": "L9zxLlNZ_XbT"
      },
      "source": [
        "## Train the Model\n",
        "\n",
        "The model can now be trained. This will take around 30 minutes to run and you will reach around 85% accuracy for both train and val sets."
      ]
    },
    {
      "cell_type": "code",
      "metadata": {
        "id": "8HoZwpGWhMB-"
      },
      "source": [
        "# number of training images\n",
        "train_count = 367\n",
        "\n",
        "# number of validation images\n",
        "validation_count = 101\n",
        "\n",
        "EPOCHS = 170\n",
        "\n",
        "steps_per_epoch = train_count//BATCH_SIZE\n",
        "validation_steps = validation_count//BATCH_SIZE\n",
        "\n",
        "history = model.fit(training_dataset,\n",
        "                    steps_per_epoch=steps_per_epoch, validation_data=validation_dataset, validation_steps=validation_steps, epochs=EPOCHS)"
      ],
      "execution_count": null,
      "outputs": []
    },
    {
      "cell_type": "markdown",
      "metadata": {
        "id": "y1luX1e7_bEd"
      },
      "source": [
        "## Evaluate the Model\n",
        "\n",
        "After training, you will want to see how your model is doing on a test set. For segmentation models, you can use the intersection-over-union and the dice score as metrics to evaluate your model. You'll see how it is implemented in this section."
      ]
    },
    {
      "cell_type": "code",
      "metadata": {
        "id": "zENjQuK0luH5"
      },
      "source": [
        "def get_images_and_segments_test_arrays():\n",
        "  '''\n",
        "  Gets a subsample of the val set as your test set\n",
        "\n",
        "  Returns:\n",
        "    Test set containing ground truth images and label maps\n",
        "  '''\n",
        "  y_true_segments = []\n",
        "  y_true_images = []\n",
        "  test_count = 64\n",
        "\n",
        "  ds = validation_dataset.unbatch()\n",
        "  ds = ds.batch(101)\n",
        "\n",
        "  for image, annotation in ds.take(1):\n",
        "    y_true_images = image\n",
        "    y_true_segments = annotation\n",
        "\n",
        "\n",
        "  y_true_segments = y_true_segments[:test_count, : ,: , :]\n",
        "  y_true_segments = np.argmax(y_true_segments, axis=3)  \n",
        "\n",
        "  return y_true_images, y_true_segments\n",
        "\n",
        "# load the ground truth images and segmentation masks\n",
        "y_true_images, y_true_segments = get_images_and_segments_test_arrays()"
      ],
      "execution_count": null,
      "outputs": []
    },
    {
      "cell_type": "markdown",
      "metadata": {
        "id": "Ly1ErxSA_kpb"
      },
      "source": [
        "### Make Predictions\n",
        "\n",
        "You can get output segmentation masks by using the `predict()` method. As you may recall, the output of our segmentation model has the shape `(height, width, 12)` where `12` is the number of classes. Each pixel value in those 12 slices indicates the probability of that pixel belonging to that particular class. If you want to create the predicted label map, then you can get the `argmax()` of that axis. This is shown in the following cell."
      ]
    },
    {
      "cell_type": "code",
      "metadata": {
        "id": "1CpEeUiN7ey9"
      },
      "source": [
        "# get the model prediction\n",
        "results = model.predict(validation_dataset, steps=validation_steps)\n",
        "\n",
        "# for each pixel, get the slice number which has the highest probability\n",
        "results = np.argmax(results, axis=3)"
      ],
      "execution_count": null,
      "outputs": []
    },
    {
      "cell_type": "markdown",
      "metadata": {
        "id": "c-nmUQkp_dc6"
      },
      "source": [
        "### Compute Metrics\n",
        "\n",
        "The function below generates the IOU and dice score of the prediction and ground truth masks. From the lectures, it is given that:\n",
        "\n",
        "$$IOU = \\frac{area\\_of\\_overlap}{area\\_of\\_union}$$\n",
        "<br>\n",
        "$$Dice Score = 2 * \\frac{area\\_of\\_overlap}{combined\\_area}$$\n",
        "\n",
        "The code below does that for you. A small smoothening factor is introduced in the denominators to prevent possible division by zero."
      ]
    },
    {
      "cell_type": "code",
      "metadata": {
        "id": "EobztGe_66sA"
      },
      "source": [
        "def compute_metrics(y_true, y_pred):\n",
        "  '''\n",
        "  Computes IOU and Dice Score.\n",
        "\n",
        "  Args:\n",
        "    y_true (tensor) - ground truth label map\n",
        "    y_pred (tensor) - predicted label map\n",
        "  '''\n",
        "  \n",
        "  class_wise_iou = []\n",
        "  class_wise_dice_score = []\n",
        "\n",
        "  smoothening_factor = 0.00001\n",
        "\n",
        "  for i in range(12):\n",
        "    intersection = np.sum((y_pred == i) * (y_true == i))\n",
        "    y_true_area = np.sum((y_true == i))\n",
        "    y_pred_area = np.sum((y_pred == i))\n",
        "    combined_area = y_true_area + y_pred_area\n",
        "    \n",
        "    iou = (intersection + smoothening_factor) / (combined_area - intersection + smoothening_factor)\n",
        "    class_wise_iou.append(iou)\n",
        "    \n",
        "    dice_score =  2 * ((intersection + smoothening_factor) / (combined_area + smoothening_factor))\n",
        "    class_wise_dice_score.append(dice_score)\n",
        "\n",
        "  return class_wise_iou, class_wise_dice_score"
      ],
      "execution_count": null,
      "outputs": []
    },
    {
      "cell_type": "markdown",
      "metadata": {
        "id": "duS-cSFMy1VH"
      },
      "source": [
        "### Show Predictions and Metrics\n",
        "\n",
        "You can now see the predicted segmentation masks side by side with the ground truth. The metrics are also overlayed so you can evaluate how your model is doing."
      ]
    },
    {
      "cell_type": "code",
      "metadata": {
        "id": "Hkbsk_P1fpRM"
      },
      "source": [
        "# input a number from 0 to 63 to pick an image from the test set\n",
        "integer_slider = 0\n",
        "\n",
        "# compute metrics\n",
        "iou, dice_score = compute_metrics(y_true_segments[integer_slider], results[integer_slider])  \n",
        "\n",
        "# visualize the output and metrics\n",
        "show_predictions(y_true_images[integer_slider], [results[integer_slider], y_true_segments[integer_slider]], [\"Image\", \"Predicted Mask\", \"True Mask\"], iou, dice_score)"
      ],
      "execution_count": null,
      "outputs": []
    },
    {
      "cell_type": "markdown",
      "metadata": {
        "id": "psu5U4jRy5px"
      },
      "source": [
        "### Display Class Wise Metrics\n",
        "\n",
        "You can also compute the class-wise metrics so you can see how your model performs across all images in the test set."
      ]
    },
    {
      "cell_type": "code",
      "metadata": {
        "id": "XqzDRh0e6_8G"
      },
      "source": [
        "# compute class-wise metrics\n",
        "cls_wise_iou, cls_wise_dice_score = compute_metrics(y_true_segments, results)\n"
      ],
      "execution_count": null,
      "outputs": []
    },
    {
      "cell_type": "code",
      "metadata": {
        "id": "7mnS0UPtsMeB"
      },
      "source": [
        "# print IOU for each class\n",
        "for idx, iou in enumerate(cls_wise_iou):\n",
        "  spaces = ' ' * (13-len(class_names[idx]) + 2)\n",
        "  print(\"{}{}{} \".format(class_names[idx], spaces, iou)) \n"
      ],
      "execution_count": null,
      "outputs": []
    },
    {
      "cell_type": "code",
      "metadata": {
        "id": "MVxYk02pJm8O"
      },
      "source": [
        "# print the dice score for each class\n",
        "for idx, dice_score in enumerate(cls_wise_dice_score):\n",
        "  spaces = ' ' * (13-len(class_names[idx]) + 2)\n",
        "  print(\"{}{}{} \".format(class_names[idx], spaces, dice_score)) \n"
      ],
      "execution_count": null,
      "outputs": []
    },
    {
      "cell_type": "markdown",
      "metadata": {
        "id": "nm6399aII-m-"
      },
      "source": [
        "**That's all for this lab! In the next section, you will work on another architecture for building a segmentation model: the UNET.**"
      ]
    }
  ]
}