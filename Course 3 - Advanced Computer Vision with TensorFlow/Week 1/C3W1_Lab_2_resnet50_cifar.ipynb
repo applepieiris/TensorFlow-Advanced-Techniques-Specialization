{
  "cells": [
    {
      "cell_type": "code",
      "execution_count": 17,
      "metadata": {
        "colab": {
          "base_uri": "https://localhost:8080/"
        },
        "id": "jtsLBCah96Ot",
        "outputId": "ffaf2d2b-85a9-4237-f5d0-a087331d4553"
      },
      "outputs": [
        {
          "name": "stdout",
          "output_type": "stream",
          "text": [
            "Version of tensorflow is :  2.4.0\n"
          ]
        }
      ],
      "source": [
        "import tensorflow as tf\n",
        "import tensorflow_datasets as tfds\n",
        "import matplotlib.pyplot as plt\n",
        "%matplotlib inline\n",
        "print(\"Version of tensorflow is : \",tf.__version__)"
      ]
    },
    {
      "cell_type": "code",
      "execution_count": 2,
      "metadata": {
        "id": "4j56rx_P-Bwn"
      },
      "outputs": [],
      "source": [
        "BATCH_SIZE = 32 \n",
        "classes = ['airplane', 'automobile', 'bird', 'cat', 'deer', 'dog', 'frog', 'horse', 'ship', 'truck']"
      ]
    },
    {
      "cell_type": "code",
      "execution_count": 3,
      "metadata": {
        "colab": {
          "base_uri": "https://localhost:8080/"
        },
        "id": "RL8r4nEc-fl7",
        "outputId": "4a86174e-3d9d-4c2e-f030-bc483deac768"
      },
      "outputs": [
        {
          "name": "stdout",
          "output_type": "stream",
          "text": [
            "Downloading data from https://www.cs.toronto.edu/~kriz/cifar-10-python.tar.gz\n",
            "170500096/170498071 [==============================] - 4s 0us/step\n"
          ]
        }
      ],
      "source": [
        "(training_images, training_labels) , (validation_images, validation_labels) = tf.keras.datasets.cifar10.load_data()"
      ]
    },
    {
      "cell_type": "code",
      "execution_count": 4,
      "metadata": {
        "id": "uGEYu0d_-oJc"
      },
      "outputs": [],
      "source": [
        "def process_input(images):\n",
        "    img = images.astype('float')\n",
        "    img = tf.keras.applications.resnet50.preprocess_input(img)\n",
        "    return img"
      ]
    },
    {
      "cell_type": "code",
      "execution_count": 5,
      "metadata": {
        "id": "MbRKFe9b-_Ks"
      },
      "outputs": [],
      "source": [
        "X_train = process_input(training_images)\n",
        "X_val   = process_input(validation_images)"
      ]
    },
    {
      "cell_type": "code",
      "execution_count": 6,
      "metadata": {
        "colab": {
          "base_uri": "https://localhost:8080/"
        },
        "id": "Rcl4WERE_H3R",
        "outputId": "7d5483c0-c1f2-4c38-9fda-8f4a436cf94a"
      },
      "outputs": [
        {
          "name": "stdout",
          "output_type": "stream",
          "text": [
            "Shape of X_train :  (50000, 32, 32, 3)\n",
            "Shape of training_labels :  (50000, 1)\n",
            "Shape of X_val :  (10000, 32, 32, 3)\n",
            "Shape of validation_labels :  (10000, 1)\n"
          ]
        }
      ],
      "source": [
        "print(\"Shape of X_train : \",X_train.shape)\n",
        "print(\"Shape of training_labels : \",training_labels.shape)\n",
        "print(\"Shape of X_val : \",X_val.shape)\n",
        "print(\"Shape of validation_labels : \",validation_labels.shape)"
      ]
    },
    {
      "cell_type": "code",
      "execution_count": 7,
      "metadata": {
        "id": "-_PjEeta_R2c"
      },
      "outputs": [],
      "source": [
        "def predefine_model(inputs):\n",
        "    resnet = tf.keras.applications.resnet.ResNet50(weights='imagenet', include_top=False , input_shape=(224,224,3))\n",
        "    x = resnet(inputs)\n",
        "    return x"
      ]
    },
    {
      "cell_type": "code",
      "execution_count": 13,
      "metadata": {
        "id": "c_mX2XKDLOqn"
      },
      "outputs": [],
      "source": [
        "def outputlayer(inputs):\n",
        "    x = predefine_model(inputs)\n",
        "    x = tf.keras.layers.GlobalAveragePooling2D()(x)\n",
        "    x = tf.keras.layers.Flatten()(x)\n",
        "    x = tf.keras.layers.Dense(1024 , activation = 'relu')(x)\n",
        "    x = tf.keras.layers.Dense(512  , activation = 'relu')(x)\n",
        "    x = tf.keras.layers.Dense(10   , activation = 'softmax' , name=\"classification\")(x)\n",
        "    \n",
        "    return x"
      ]
    },
    {
      "cell_type": "code",
      "execution_count": 14,
      "metadata": {
        "id": "RVSuBUVoMYYq"
      },
      "outputs": [],
      "source": [
        "def get_model():\n",
        "    Input = tf.keras.layers.Input(shape=(32 , 32 , 3))\n",
        "    x     = tf.keras.layers.UpSampling2D(size=(7,7))(Input)\n",
        "    x     = outputlayer(x)\n",
        "\n",
        "    model = tf.keras.models.Model(inputs = Input , outputs = x)\n",
        "    model.compile(loss = tf.keras.losses.sparse_categorical_crossentropy , optimizer = 'sgd' , metrics = ['acc'])\n",
        "    return model"
      ]
    },
    {
      "cell_type": "code",
      "execution_count": 15,
      "metadata": {
        "id": "1RlxyRQQM_nY"
      },
      "outputs": [],
      "source": [
        "model = get_model()"
      ]
    },
    {
      "cell_type": "code",
      "execution_count": 16,
      "metadata": {
        "colab": {
          "base_uri": "https://localhost:8080/"
        },
        "id": "reEbGFQVNEKM",
        "outputId": "f5004088-8c5a-4b44-ca21-1dbd9f47978d"
      },
      "outputs": [
        {
          "name": "stdout",
          "output_type": "stream",
          "text": [
            "Model: \"model_1\"\n",
            "_________________________________________________________________\n",
            "Layer (type)                 Output Shape              Param #   \n",
            "=================================================================\n",
            "input_3 (InputLayer)         [(None, 32, 32, 3)]       0         \n",
            "_________________________________________________________________\n",
            "up_sampling2d_1 (UpSampling2 (None, 224, 224, 3)       0         \n",
            "_________________________________________________________________\n",
            "resnet50 (Functional)        (None, 7, 7, 2048)        23587712  \n",
            "_________________________________________________________________\n",
            "global_average_pooling2d_1 ( (None, 2048)              0         \n",
            "_________________________________________________________________\n",
            "flatten (Flatten)            (None, 2048)              0         \n",
            "_________________________________________________________________\n",
            "dense_2 (Dense)              (None, 1024)              2098176   \n",
            "_________________________________________________________________\n",
            "dense_3 (Dense)              (None, 512)               524800    \n",
            "_________________________________________________________________\n",
            "classification (Dense)       (None, 10)                5130      \n",
            "=================================================================\n",
            "Total params: 26,215,818\n",
            "Trainable params: 26,162,698\n",
            "Non-trainable params: 53,120\n",
            "_________________________________________________________________\n"
          ]
        }
      ],
      "source": [
        "model.summary()"
      ]
    },
    {
      "cell_type": "code",
      "execution_count": 19,
      "metadata": {
        "colab": {
          "base_uri": "https://localhost:8080/"
        },
        "id": "s693ypQbNJeu",
        "outputId": "ca3cf096-22db-4575-d8b7-b9e5aa42508f"
      },
      "outputs": [
        {
          "name": "stdout",
          "output_type": "stream",
          "text": [
            "Epoch 1/4\n",
            "1563/1563 [==============================] - 559s 351ms/step - loss: 0.5975 - acc: 0.8054 - val_loss: 0.1781 - val_acc: 0.9419\n",
            "Epoch 2/4\n",
            "1563/1563 [==============================] - 553s 354ms/step - loss: 0.0955 - acc: 0.9697 - val_loss: 0.1687 - val_acc: 0.9471\n",
            "Epoch 3/4\n",
            "1563/1563 [==============================] - 553s 354ms/step - loss: 0.0406 - acc: 0.9869 - val_loss: 0.1639 - val_acc: 0.9514\n",
            "Epoch 4/4\n",
            "1563/1563 [==============================] - 555s 355ms/step - loss: 0.0228 - acc: 0.9930 - val_loss: 0.1579 - val_acc: 0.9543\n"
          ]
        }
      ],
      "source": [
        "epoch = 4\n",
        "his = model.fit(X_train , training_labels ,\n",
        "                epochs=epoch , batch_size=32 ,\n",
        "                validation_data=(X_val , validation_labels) ,\n",
        "                validation_batch_size=32)"
      ]
    },
    {
      "cell_type": "code",
      "execution_count": null,
      "metadata": {
        "id": "y2a7zSiEN89R"
      },
      "outputs": [],
      "source": []
    }
  ],
  "metadata": {
    "accelerator": "GPU",
    "colab": {
      "name": "Untitled1.ipynb",
      "provenance": []
    },
    "kernelspec": {
      "display_name": "Python 3.10.5 64-bit",
      "language": "python",
      "name": "python3"
    },
    "language_info": {
      "name": "python",
      "version": "3.10.5"
    },
    "vscode": {
      "interpreter": {
        "hash": "369f2c481f4da34e4445cda3fffd2e751bd1c4d706f27375911949ba6bb62e1c"
      }
    }
  },
  "nbformat": 4,
  "nbformat_minor": 0
}
