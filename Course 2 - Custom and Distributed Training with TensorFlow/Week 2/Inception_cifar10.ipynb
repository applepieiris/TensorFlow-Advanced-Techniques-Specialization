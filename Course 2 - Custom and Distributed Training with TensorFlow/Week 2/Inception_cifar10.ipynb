{
 "cells": [
  {
   "cell_type": "code",
   "execution_count": null,
   "metadata": {},
   "outputs": [],
   "source": []
  }
 ],
 "metadata": {
  "kernelspec": {
   "display_name": "base",
   "language": "python",
   "name": "python3"
  },
  "language_info": {
   "name": "python",
   "version": "3.9.10"
  },
  "orig_nbformat": 4,
  "vscode": {
   "interpreter": {
    "hash": "20c115783511270f812f76a700d03d809984385649272eae625a8ef0834ef776"
   }
  }
 },
 "nbformat": 4,
 "nbformat_minor": 2
}
