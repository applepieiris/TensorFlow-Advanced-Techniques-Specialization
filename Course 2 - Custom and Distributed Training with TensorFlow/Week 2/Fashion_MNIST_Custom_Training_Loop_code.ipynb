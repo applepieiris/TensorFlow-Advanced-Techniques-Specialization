{
  "nbformat": 4,
  "nbformat_minor": 0,
  "metadata": {
    "colab": {
      "name": "Fashion MNIST Custom Training Loop code.ipynb",
      "provenance": [],
      "include_colab_link": true
    },
    "kernelspec": {
      "name": "python3",
      "display_name": "Python 3"
    },
    "accelerator": "GPU"
  },
  "cells": [
    {
      "cell_type": "markdown",
      "metadata": {
        "id": "view-in-github",
        "colab_type": "text"
      },
      "source": [
        "<a href=\"https://colab.research.google.com/github/applepieiris/TensorFlow-Advanced-Techniques-Specialization/blob/main/Course%202%20-%20Custom%20and%20Distributed%20Training%20with%20TensorFlow/Week%202/Fashion_MNIST_Custom_Training_Loop_code.ipynb\" target=\"_parent\"><img src=\"https://colab.research.google.com/assets/colab-badge.svg\" alt=\"Open In Colab\"/></a>"
      ]
    },
    {
      "cell_type": "code",
      "metadata": {
        "id": "G4dB9CHN5qMv"
      },
      "source": [
        "import tensorflow as tf\n",
        "from tensorflow.keras.models import Model\n",
        "from tensorflow.keras.layers import Dense, Input\n",
        "\n",
        "import numpy as np\n",
        "import matplotlib.pyplot as plt\n",
        "import pandas as pd\n",
        "from sklearn.model_selection import train_test_split\n",
        "from sklearn.metrics import confusion_matrix\n",
        "import itertools\n",
        "from tqdm import tqdm\n",
        "import tensorflow_datasets as tfds\n",
        "import matplotlib.ticker as mticker"
      ],
      "execution_count": 1,
      "outputs": []
    },
    {
      "cell_type": "code",
      "metadata": {
        "id": "qj8xK1r151Sx"
      },
      "source": [
        "#Get the data and process the data\n",
        "train_data = tfds.load('fashion_mnist' , split='train')\n",
        "test_data  = tfds.load('fashion_mnist' , split=\"test\")"
      ],
      "execution_count": 7,
      "outputs": []
    },
    {
      "cell_type": "code",
      "metadata": {
        "id": "HxqAIS-h676G"
      },
      "source": [
        "def process_data(data):\n",
        "    image = data['image']\n",
        "    image = tf.reshape(image , [-1]) # flatten to 1D\n",
        "    image = tf.cast(image , tf.float32)\n",
        "    image = image / 255.0\n",
        "\n",
        "    return image , data['label']"
      ],
      "execution_count": 8,
      "outputs": []
    },
    {
      "cell_type": "code",
      "metadata": {
        "id": "12KJ4BB97ZEN"
      },
      "source": [
        "train_data = train_data.map(process_data)\n",
        "test_data  = test_data.map(process_data)"
      ],
      "execution_count": 9,
      "outputs": []
    },
    {
      "cell_type": "code",
      "metadata": {
        "id": "zubAZT7-7gxt"
      },
      "source": [
        "batch_size = 64\n",
        "\n",
        "train_data = train_data.shuffle(buffer_size=1024).batch(batch_size)\n",
        "test_data  = test_data.batch(batch_size)"
      ],
      "execution_count": 10,
      "outputs": []
    },
    {
      "cell_type": "code",
      "metadata": {
        "id": "SkVGcRfc7xbt"
      },
      "source": [
        "class_names = [\"T-shirt/top\", \"Trouser/pants\", \"Pullover shirt\", \"Dress\", \"Coat\", \n",
        "               \"Sandal\", \"Shirt\", \"Sneaker\", \"Bag\", \"Ankle boot\"]"
      ],
      "execution_count": 11,
      "outputs": []
    },
    {
      "cell_type": "code",
      "metadata": {
        "id": "iGetef3r70yd"
      },
      "source": [
        "def base_model():\n",
        "    input  = Input(shape=(28*28 , ) , name = \"input_layer\")\n",
        "    x = Dense(64 , activation='relu' , name = \"dense1\")(input)\n",
        "    x = Dense(64 , activation='relu' , name = \"dense2\")(x)\n",
        "    output = Dense(10 , activation='softmax' , name=\"output_layer\")(x)\n",
        "    model = Model(inputs = input , outputs = output)\n",
        "    return model"
      ],
      "execution_count": 17,
      "outputs": []
    },
    {
      "cell_type": "code",
      "metadata": {
        "id": "QnipQznV8jLA"
      },
      "source": [
        "from tensorflow.keras.losses import SparseCategoricalCrossentropy\n",
        "from tensorflow.keras.metrics import SparseCategoricalAccuracy\n",
        "from tensorflow.keras.optimizers import Adam\n",
        "\n",
        "loss_obj       = SparseCategoricalCrossentropy()\n",
        "optimizer_obj  = Adam()\n",
        "\n",
        "train_acc_matrix = SparseCategoricalAccuracy()\n",
        "val_acc_matrix   = SparseCategoricalAccuracy()"
      ],
      "execution_count": 14,
      "outputs": []
    },
    {
      "cell_type": "code",
      "metadata": {
        "id": "fwTM3Jpw807U"
      },
      "source": [
        "def run_optimizer(model , x , y_true):\n",
        "    with tf.GradientTape() as tape:\n",
        "        logits = model(x)\n",
        "        loss_val = loss_obj(y_true=y_true , y_pred=logits)\n",
        "    grad = tape.gradient(loss_val , model.trainable_weights) # model有6个可以train的weights\n",
        "    optimizer_obj.apply_gradients(zip(grad , model.trainable_weights))\n",
        "\n",
        "    return logits , loss_val"
      ],
      "execution_count": 20,
      "outputs": []
    },
    {
      "cell_type": "code",
      "source": [
        "model = base_model()\n",
        "len(model.trainable_weights)"
      ],
      "metadata": {
        "id": "dJSdE4P3EIbw",
        "outputId": "c52c29ae-0f1d-4dc6-e432-ac7bf87a2999",
        "colab": {
          "base_uri": "https://localhost:8080/"
        }
      },
      "execution_count": 19,
      "outputs": [
        {
          "output_type": "execute_result",
          "data": {
            "text/plain": [
              "6"
            ]
          },
          "metadata": {},
          "execution_count": 19
        }
      ]
    },
    {
      "cell_type": "code",
      "metadata": {
        "id": "O9IXLkoU9X88"
      },
      "source": [
        "def train_one_epoch(model , train_data):\n",
        "    losses = []\n",
        "    pbar = tqdm(total=len(list(enumerate(train_data))), position=0, leave=True, bar_format='{l_bar}{bar}| {n_fmt}/{total_fmt} ')\n",
        "    for batch_no , (data , label) in enumerate(train_data):\n",
        "        y_pred , loss = run_optimizer(model , data , label)\n",
        "        losses.append(loss)\n",
        "        train_acc_matrix(label , y_pred)\n",
        "        pbar.set_description(\"Training loss for step %s: %.4f\" % (int(batch_no), float(loss)))\n",
        "        pbar.update()\n",
        "    return losses # 返回的是一个list，每一个item是一个batch的loss"
      ],
      "execution_count": 21,
      "outputs": []
    },
    {
      "cell_type": "code",
      "metadata": {
        "id": "KTuE4We79YAR"
      },
      "source": [
        "def perform_validation(model , test_data):\n",
        "    losses = []\n",
        "    for (data , label) in test_data:\n",
        "        y_pred = model(data)\n",
        "        loss = loss_obj(label , y_pred)\n",
        "        losses.append(loss)\n",
        "        val_acc_matrix(label , y_pred)\n",
        "    return losses"
      ],
      "execution_count": 22,
      "outputs": []
    },
    {
      "cell_type": "code",
      "metadata": {
        "id": "j2yC0v1P9YC6"
      },
      "source": [
        "def train(train , test , epochs = 10):\n",
        "    model = base_model()\n",
        "\n",
        "    history = {}\n",
        "    history['train_loss'] = []\n",
        "    history['val_loss'] = []\n",
        "\n",
        "    history['train_acc'] = []\n",
        "    history['val_acc'] = []\n",
        "\n",
        "    val_epoch_loss   = []\n",
        "    for epoch in range(epochs):\n",
        "        print('Start of epoch %d' % (epoch,))\n",
        "\n",
        "        train_losses = train_one_epoch(model , train_data=train)\n",
        "        train_acc    = train_acc_matrix.result()\n",
        "        history['train_acc'].append(train_acc.numpy())\n",
        "        train_acc_matrix.reset_states()\n",
        "\n",
        "        val_losses   = perform_validation(model , test_data=test)\n",
        "        val_acc      = val_acc_matrix.result()\n",
        "        history['val_acc'].append(val_acc.numpy())\n",
        "        val_acc_matrix.reset_states()\n",
        "\n",
        "        history['train_loss'].append(np.mean(train_losses)) # 这里求解的是所有batch的loss总和\n",
        "        history['val_loss'].append(np.mean(val_losses))\n",
        "\n",
        "        print('\\n Epoch %s: Train loss: %.4f  Validation Loss: %.4f,\\\n",
        "         Train Accuracy: %.4f, Validation Accuracy %.4f' % (epoch, float(np.mean(train_losses)), float(np.mean(val_losses)),\n",
        "                                                            float(train_acc), float(val_acc)))\n",
        "\n",
        "    history['model'] = model\n",
        "    return history"
      ],
      "execution_count": 23,
      "outputs": []
    },
    {
      "cell_type": "code",
      "metadata": {
        "colab": {
          "base_uri": "https://localhost:8080/"
        },
        "id": "jw06v3JG9Z9c",
        "outputId": "aec0407e-5b2a-4aed-b406-9654c0c97cab"
      },
      "source": [
        "history = train(train_data , test_data)"
      ],
      "execution_count": 24,
      "outputs": [
        {
          "output_type": "stream",
          "name": "stdout",
          "text": [
            "Start of epoch 0\n"
          ]
        },
        {
          "output_type": "stream",
          "name": "stderr",
          "text": [
            "Training loss for step 937: 0.4164: 100%|██████████| 938/938 \n"
          ]
        },
        {
          "output_type": "stream",
          "name": "stdout",
          "text": [
            "\n",
            " Epoch 0: Train loss: 0.5401  Validation Loss: 0.4415,         Train Accuracy: 0.8117, Validation Accuracy 0.8443\n",
            "Start of epoch 1\n"
          ]
        },
        {
          "output_type": "stream",
          "name": "stderr",
          "text": [
            "Training loss for step 937: 0.1694: 100%|██████████| 938/938 \n"
          ]
        },
        {
          "output_type": "stream",
          "name": "stdout",
          "text": [
            "\n",
            " Epoch 1: Train loss: 0.3936  Validation Loss: 0.4095,         Train Accuracy: 0.8587, Validation Accuracy 0.8553\n",
            "Start of epoch 2\n"
          ]
        },
        {
          "output_type": "stream",
          "name": "stderr",
          "text": [
            "Training loss for step 937: 0.1984: 100%|██████████| 938/938 \n"
          ]
        },
        {
          "output_type": "stream",
          "name": "stdout",
          "text": [
            "\n",
            " Epoch 2: Train loss: 0.3521  Validation Loss: 0.4096,         Train Accuracy: 0.8717, Validation Accuracy 0.8542\n",
            "Start of epoch 3\n"
          ]
        },
        {
          "output_type": "stream",
          "name": "stderr",
          "text": [
            "Training loss for step 937: 0.3306: 100%|██████████| 938/938 \n"
          ]
        },
        {
          "output_type": "stream",
          "name": "stdout",
          "text": [
            "\n",
            " Epoch 3: Train loss: 0.3303  Validation Loss: 0.3699,         Train Accuracy: 0.8794, Validation Accuracy 0.8691\n",
            "Start of epoch 4\n"
          ]
        },
        {
          "output_type": "stream",
          "name": "stderr",
          "text": [
            "Training loss for step 937: 0.1605: 100%|██████████| 938/938 \n"
          ]
        },
        {
          "output_type": "stream",
          "name": "stdout",
          "text": [
            "\n",
            " Epoch 4: Train loss: 0.3132  Validation Loss: 0.3777,         Train Accuracy: 0.8852, Validation Accuracy 0.8645\n",
            "Start of epoch 5\n"
          ]
        },
        {
          "output_type": "stream",
          "name": "stderr",
          "text": [
            "Training loss for step 937: 0.1288: 100%|██████████| 938/938 \n"
          ]
        },
        {
          "output_type": "stream",
          "name": "stdout",
          "text": [
            "\n",
            " Epoch 5: Train loss: 0.2952  Validation Loss: 0.3628,         Train Accuracy: 0.8903, Validation Accuracy 0.8723\n",
            "Start of epoch 6\n"
          ]
        },
        {
          "output_type": "stream",
          "name": "stderr",
          "text": [
            "Training loss for step 937: 0.2093: 100%|██████████| 938/938 \n"
          ]
        },
        {
          "output_type": "stream",
          "name": "stdout",
          "text": [
            "\n",
            " Epoch 6: Train loss: 0.2848  Validation Loss: 0.3706,         Train Accuracy: 0.8956, Validation Accuracy 0.8692\n",
            "Start of epoch 7\n"
          ]
        },
        {
          "output_type": "stream",
          "name": "stderr",
          "text": [
            "Training loss for step 937: 0.2289: 100%|██████████| 938/938 \n"
          ]
        },
        {
          "output_type": "stream",
          "name": "stdout",
          "text": [
            "\n",
            " Epoch 7: Train loss: 0.2762  Validation Loss: 0.3545,         Train Accuracy: 0.8970, Validation Accuracy 0.8761\n",
            "Start of epoch 8\n"
          ]
        },
        {
          "output_type": "stream",
          "name": "stderr",
          "text": [
            "Training loss for step 937: 0.3194: 100%|██████████| 938/938 \n"
          ]
        },
        {
          "output_type": "stream",
          "name": "stdout",
          "text": [
            "\n",
            " Epoch 8: Train loss: 0.2658  Validation Loss: 0.3518,         Train Accuracy: 0.9012, Validation Accuracy 0.8808\n",
            "Start of epoch 9\n"
          ]
        },
        {
          "output_type": "stream",
          "name": "stderr",
          "text": [
            "Training loss for step 937: 0.3034: 100%|██████████| 938/938 \n"
          ]
        },
        {
          "output_type": "stream",
          "name": "stdout",
          "text": [
            "\n",
            " Epoch 9: Train loss: 0.2559  Validation Loss: 0.3408,         Train Accuracy: 0.9049, Validation Accuracy 0.8830\n"
          ]
        }
      ]
    },
    {
      "cell_type": "code",
      "metadata": {
        "colab": {
          "base_uri": "https://localhost:8080/",
          "height": 353
        },
        "id": "URnEKZKw9cCc",
        "outputId": "3bb1fbdc-80ad-486c-9705-bfd57f6b0422"
      },
      "source": [
        "import seaborn as sns\n",
        "sns.set_style(\"darkgrid\")\n",
        "\n",
        "fig , ax = plt.subplots(1,2,figsize=(16,5))\n",
        "ax[0].plot(history['val_acc'] , label=\"val_acc\")\n",
        "ax[0].plot(history['train_acc'] , label=\"acc\")\n",
        "ax[0].legend()\n",
        "ax[0].set_title(\"Accurecy\")\n",
        "\n",
        "ax[1].plot(history['val_loss'] , label=\"val_loss\")\n",
        "ax[1].plot(history['train_loss'] , label=\"loss\")\n",
        "ax[1].legend()\n",
        "ax[1].set_title(\"Loss\")"
      ],
      "execution_count": 25,
      "outputs": [
        {
          "output_type": "execute_result",
          "data": {
            "text/plain": [
              "Text(0.5, 1.0, 'Loss')"
            ]
          },
          "metadata": {},
          "execution_count": 25
        },
        {
          "output_type": "display_data",
          "data": {
            "text/plain": [
              "<Figure size 1152x360 with 2 Axes>"
            ],
            "image/png": "[encoded data removed]"
          },
          "metadata": {}
        }
      ]
    }
  ]
}