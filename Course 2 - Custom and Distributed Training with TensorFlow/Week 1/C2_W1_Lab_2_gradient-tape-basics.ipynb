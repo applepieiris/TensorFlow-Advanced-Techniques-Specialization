{
  "cells": [
    {
      "cell_type": "markdown",
      "metadata": {
        "id": "view-in-github",
        "colab_type": "text"
      },
      "source": [
        "<a href=\"https://colab.research.google.com/github/applepieiris/TensorFlow-Advanced-Techniques-Specialization/blob/main/Course%202%20-%20Custom%20and%20Distributed%20Training%20with%20TensorFlow/Week%201/C2_W1_Lab_2_gradient-tape-basics.ipynb\" target=\"_parent\"><img src=\"https://colab.research.google.com/assets/colab-badge.svg\" alt=\"Open In Colab\"/></a>"
      ]
    },
    {
      "cell_type": "markdown",
      "metadata": {
        "id": "xE3TEXg6GRg5"
      },
      "source": [
        "# Gradient Tape Basics\n",
        "\n",
        "In this ungraded lab, you'll get familiar with Tensorflow's built in API called Gradient Tape which helps in performing automatic differentiation."
      ]
    },
    {
      "cell_type": "markdown",
      "metadata": {
        "id": "P2fsIeMPGRg9"
      },
      "source": [
        "## Imports"
      ]
    },
    {
      "cell_type": "code",
      "execution_count": 2,
      "metadata": {
        "id": "uQe_MWjNPQkR"
      },
      "outputs": [],
      "source": [
        "import tensorflow as tf"
      ]
    },
    {
      "cell_type": "markdown",
      "metadata": {
        "id": "3jNGDbfRGRg_"
      },
      "source": [
        "## Exercise on basics of Gradient Tape\n",
        "\n",
        "Let's explore how you can use [tf.GradientTape()](https://www.tensorflow.org/api_docs/python/tf/GradientTape) to do automatic differentiation."
      ]
    },
    {
      "cell_type": "code",
      "execution_count": 3,
      "metadata": {
        "colab": {
          "base_uri": "https://localhost:8080/"
        },
        "id": "57Vnn9iIPNh9",
        "outputId": "2ec5bef1-b6f8-4c4a-b1af-bef3a82bfb24"
      },
      "outputs": [
        {
          "output_type": "stream",
          "name": "stdout",
          "text": [
            "tf.Tensor(\n",
            "[[8. 8.]\n",
            " [8. 8.]], shape=(2, 2), dtype=float32)\n"
          ]
        }
      ],
      "source": [
        "# Define a 2x2 array of 1's\n",
        "x = tf.ones((2,2))\n",
        "\n",
        "with tf.GradientTape() as t:\n",
        "    # Record the actions performed on tensor x with `watch`\n",
        "    t.watch(x) \n",
        "\n",
        "    # Define y as the sum of the elements in x\n",
        "    y =  tf.reduce_sum(x)\n",
        "\n",
        "    # Let z be the square of y\n",
        "    z = tf.square(y) \n",
        "\n",
        "# Get the derivative of z wrt the original input tensor x\n",
        "dz_dx = t.gradient(z, x)\n",
        "\n",
        "# Print our result\n",
        "print(dz_dx)"
      ]
    },
    {
      "cell_type": "markdown",
      "metadata": {
        "id": "Rx_pGrx5GRhA"
      },
      "source": [
        "### Gradient tape expires after one use, by default\n",
        "\n",
        "If you want to compute multiple gradients, note that by default, GradientTape is not persistent (`persistent=False`).  This means that the GradientTape will expire after you use it to calculate a gradient.\n",
        "\n",
        "To see this, set up gradient tape as usual and calculate a gradient, so that the gradient tape will be 'expired'."
      ]
    },
    {
      "cell_type": "code",
      "execution_count": 4,
      "metadata": {
        "id": "5PxwQZ4OGRhB",
        "outputId": "1b52cef7-d45f-4bc7-eaa2-0faa0075190b",
        "colab": {
          "base_uri": "https://localhost:8080/"
        }
      },
      "outputs": [
        {
          "output_type": "stream",
          "name": "stdout",
          "text": [
            "tf.Tensor(108.0, shape=(), dtype=float32)\n"
          ]
        }
      ],
      "source": [
        "x = tf.constant(3.0)\n",
        "\n",
        "# Notice that persistent is False by default\n",
        "with tf.GradientTape() as t:\n",
        "    t.watch(x)\n",
        "    \n",
        "    # y = x^2\n",
        "    y = x * x\n",
        "    \n",
        "    # z = y^2\n",
        "    z = y * y\n",
        "\n",
        "# Compute dz/dx. 4 * x^3 at x = 3 --> 108.0\n",
        "dz_dx = t.gradient(z, x)\n",
        "print(dz_dx)"
      ]
    },
    {
      "cell_type": "markdown",
      "metadata": {
        "id": "TtfJQ4_4GRhC"
      },
      "source": [
        "#### Gradient tape has expired\n",
        "\n",
        "See what happens if you try to calculate another gradient after you've already used gradient tape once."
      ]
    },
    {
      "cell_type": "code",
      "execution_count": 5,
      "metadata": {
        "id": "874-7EpDGRhC",
        "outputId": "7e586fb9-d200-4733-f688-9c9ef8b6b169",
        "colab": {
          "base_uri": "https://localhost:8080/"
        }
      },
      "outputs": [
        {
          "output_type": "stream",
          "name": "stdout",
          "text": [
            "The error message you get is:\n",
            "A non-persistent GradientTape can only be used to compute one set of gradients (or jacobians)\n"
          ]
        }
      ],
      "source": [
        "# If you try to compute dy/dx after the gradient tape has expired:\n",
        "try:\n",
        "    dy_dx = t.gradient(y, x)  # 6.0\n",
        "    print(dy_dx)\n",
        "except RuntimeError as e:\n",
        "    print(\"The error message you get is:\")\n",
        "    print(e)"
      ]
    },
    {
      "cell_type": "markdown",
      "metadata": {
        "id": "0vLfj8krGRhD"
      },
      "source": [
        "### Make the gradient tape persistent\n",
        "To make sure that the gradient tape can be used multiple times, set `persistent=True` "
      ]
    },
    {
      "cell_type": "code",
      "execution_count": 6,
      "metadata": {
        "colab": {
          "base_uri": "https://localhost:8080/"
        },
        "id": "P12ExatAPqn6",
        "outputId": "0d2849c4-ce43-4b6e-ee13-e6cbb359a868"
      },
      "outputs": [
        {
          "output_type": "stream",
          "name": "stdout",
          "text": [
            "tf.Tensor(108.0, shape=(), dtype=float32)\n"
          ]
        }
      ],
      "source": [
        "x = tf.constant(3.0)\n",
        "\n",
        "# Set persistent=True so that you can reuse the tape\n",
        "with tf.GradientTape(persistent=True) as t:\n",
        "    t.watch(x)\n",
        "    \n",
        "    # y = x^2\n",
        "    y = x * x\n",
        "    \n",
        "    # z = y^2\n",
        "    z = y * y\n",
        "\n",
        "# Compute dz/dx. 4 * x^3 at x = 3 --> 108.0\n",
        "dz_dx = t.gradient(z, x)\n",
        "print(dz_dx)"
      ]
    },
    {
      "cell_type": "markdown",
      "metadata": {
        "id": "sJlTVfikGRhE"
      },
      "source": [
        "#### Now that it's persistent, you can still reuse this tape!\n",
        "\n",
        "Try calculating a second gradient on this persistent tape."
      ]
    },
    {
      "cell_type": "code",
      "execution_count": 7,
      "metadata": {
        "id": "xhfEMr0OGRhF",
        "outputId": "40877bb0-0bf7-41dc-f251-dfebcc2fd66c",
        "colab": {
          "base_uri": "https://localhost:8080/"
        }
      },
      "outputs": [
        {
          "output_type": "stream",
          "name": "stdout",
          "text": [
            "tf.Tensor(6.0, shape=(), dtype=float32)\n"
          ]
        }
      ],
      "source": [
        "# You can still compute dy/dx because of the persistent flag.\n",
        "dy_dx = t.gradient(y, x)  # 6.0\n",
        "print(dy_dx)"
      ]
    },
    {
      "cell_type": "markdown",
      "metadata": {
        "id": "pe6ajRKnGRhF"
      },
      "source": [
        "Great! It still works!  Delete the tape variable `t` once you no longer need it."
      ]
    },
    {
      "cell_type": "code",
      "execution_count": 8,
      "metadata": {
        "id": "f0aiTeqMGRhF"
      },
      "outputs": [],
      "source": [
        "# Drop the reference to the tape\n",
        "del t  "
      ]
    },
    {
      "cell_type": "markdown",
      "metadata": {
        "id": "-MrnXVpZGRhG"
      },
      "source": [
        "### Nested Gradient tapes\n",
        "Now let's try computing a higher order derivative by nesting the `GradientTapes:`\n",
        "\n",
        "#### Acceptable indentation of the first gradient calculation\n",
        "Keep in mind that you'll want to make sure that the first gradient calculation of `dy_dx` should occur at least inside the outer `with` block."
      ]
    },
    {
      "cell_type": "code",
      "execution_count": 9,
      "metadata": {
        "colab": {
          "base_uri": "https://localhost:8080/"
        },
        "id": "UxNLeFLlP4qU",
        "outputId": "ddb71f8b-239d-4e05-cead-00de5df31ee5"
      },
      "outputs": [
        {
          "output_type": "stream",
          "name": "stdout",
          "text": [
            "tf.Tensor(3.0, shape=(), dtype=float32)\n",
            "tf.Tensor(6.0, shape=(), dtype=float32)\n"
          ]
        }
      ],
      "source": [
        "x = tf.Variable(1.0)\n",
        "\n",
        "with tf.GradientTape() as tape_2:\n",
        "    with tf.GradientTape() as tape_1:\n",
        "        y = x * x * x\n",
        "    \n",
        "    # The first gradient calculation should occur at leaset\n",
        "    # within the outer with block\n",
        "    dy_dx = tape_1.gradient(y, x)\n",
        "d2y_dx2 = tape_2.gradient(dy_dx, x)\n",
        "\n",
        "print(dy_dx)\n",
        "print(d2y_dx2)"
      ]
    },
    {
      "cell_type": "markdown",
      "metadata": {
        "id": "tPrzOg7OGRhG"
      },
      "source": [
        "The first gradient calculation can also be inside the inner with block."
      ]
    },
    {
      "cell_type": "code",
      "execution_count": null,
      "metadata": {
        "id": "8f9hQgBeGRhG"
      },
      "outputs": [],
      "source": [
        "x = tf.Variable(1.0)\n",
        "\n",
        "with tf.GradientTape() as tape_2:\n",
        "    with tf.GradientTape() as tape_1:\n",
        "        y = x * x * x\n",
        "    \n",
        "        # The first gradient calculation can also be within the inner with block\n",
        "        dy_dx = tape_1.gradient(y, x) # 低阶导数也是可以在with的scope内调用的\n",
        "d2y_dx2 = tape_2.gradient(dy_dx, x)\n",
        "\n",
        "print(dy_dx)\n",
        "print(d2y_dx2)"
      ]
    },
    {
      "cell_type": "markdown",
      "metadata": {
        "id": "7nyzAEfYGRhH"
      },
      "source": [
        "#### Where not to indent the first gradient calculation\n",
        "If the first gradient calculation is OUTSIDE of the outer `with` block, it won't persist for the second gradient calculation."
      ]
    },
    {
      "cell_type": "code",
      "execution_count": 10,
      "metadata": {
        "id": "BrAVeGMeGRhH",
        "outputId": "6867f531-7ea3-4ca3-e60c-663db0fc253c",
        "colab": {
          "base_uri": "https://localhost:8080/"
        }
      },
      "outputs": [
        {
          "output_type": "stream",
          "name": "stdout",
          "text": [
            "tf.Tensor(3.0, shape=(), dtype=float32)\n",
            "None\n"
          ]
        }
      ],
      "source": [
        "x = tf.Variable(1.0)\n",
        "\n",
        "with tf.GradientTape() as tape_2:\n",
        "    with tf.GradientTape() as tape_1:\n",
        "        y = x * x * x\n",
        "\n",
        "# The first gradient call is outside the outer with block\n",
        "# so the tape will expire after this\n",
        "dy_dx = tape_1.gradient(y, x) # 这种方式下调用，第二个高阶导数为None。即便是设置persistent=True也不可以\n",
        "\n",
        "# The tape is now expired and the gradient output will be `None`\n",
        "d2y_dx2 = tape_2.gradient(dy_dx, x)\n",
        "\n",
        "print(dy_dx)\n",
        "print(d2y_dx2)"
      ]
    },
    {
      "cell_type": "markdown",
      "metadata": {
        "id": "IUQsNw9tGRhI"
      },
      "source": [
        "Notice how the `d2y_dx2` calculation is now `None`.  The tape has expired.  Also note that this still won't work even if you set persistent=True for both gradient tapes."
      ]
    },
    {
      "cell_type": "code",
      "execution_count": 11,
      "metadata": {
        "id": "QiF1iF38GRhI",
        "outputId": "59bc9de2-1f6c-4c1d-add4-5fa3b8760528",
        "colab": {
          "base_uri": "https://localhost:8080/"
        }
      },
      "outputs": [
        {
          "output_type": "stream",
          "name": "stdout",
          "text": [
            "tf.Tensor(3.0, shape=(), dtype=float32)\n",
            "None\n"
          ]
        }
      ],
      "source": [
        "x = tf.Variable(1.0)\n",
        "\n",
        "# Setting persistent=True still won't work\n",
        "with tf.GradientTape(persistent=True) as tape_2:\n",
        "    # Setting persistent=True still won't work\n",
        "    with tf.GradientTape(persistent=True) as tape_1:\n",
        "        y = x * x * x\n",
        "\n",
        "# The first gradient call is outside the outer with block\n",
        "# so the tape will expire after this\n",
        "dy_dx = tape_1.gradient(y, x)\n",
        "\n",
        "# the output will be `None`\n",
        "d2y_dx2 = tape_2.gradient(dy_dx, x)\n",
        "\n",
        "print(dy_dx)\n",
        "print(d2y_dx2)"
      ]
    },
    {
      "cell_type": "markdown",
      "metadata": {
        "id": "s7RafpJEGRhI"
      },
      "source": [
        "### Proper indentation for the second gradient calculation\n",
        "\n",
        "The second gradient calculation `d2y_dx2` can be indented as much as the first calculation of `dy_dx` but not more."
      ]
    },
    {
      "cell_type": "code",
      "execution_count": 12,
      "metadata": {
        "id": "JHJouXyuGRhI",
        "outputId": "3165290f-81bc-4003-a5a0-8bddbca852aa",
        "colab": {
          "base_uri": "https://localhost:8080/"
        }
      },
      "outputs": [
        {
          "output_type": "stream",
          "name": "stdout",
          "text": [
            "tf.Tensor(3.0, shape=(), dtype=float32)\n",
            "tf.Tensor(6.0, shape=(), dtype=float32)\n"
          ]
        }
      ],
      "source": [
        "x = tf.Variable(1.0)\n",
        "\n",
        "with tf.GradientTape() as tape_2:\n",
        "    with tf.GradientTape() as tape_1:\n",
        "        y = x * x * x\n",
        "\n",
        "        dy_dx = tape_1.gradient(y, x)\n",
        "        \n",
        "        # this is acceptable\n",
        "        d2y_dx2 = tape_2.gradient(dy_dx, x)\n",
        "\n",
        "print(dy_dx)\n",
        "print(d2y_dx2)"
      ]
    },
    {
      "cell_type": "markdown",
      "metadata": {
        "id": "1Aq2Uk9dGRhJ"
      },
      "source": [
        "This is also acceptable"
      ]
    },
    {
      "cell_type": "code",
      "execution_count": 13,
      "metadata": {
        "id": "fFFr44FMGRhJ",
        "outputId": "f3e80c05-09cf-41bb-c077-d8c35ae23171",
        "colab": {
          "base_uri": "https://localhost:8080/"
        }
      },
      "outputs": [
        {
          "output_type": "stream",
          "name": "stdout",
          "text": [
            "tf.Tensor(3.0, shape=(), dtype=float32)\n",
            "tf.Tensor(6.0, shape=(), dtype=float32)\n"
          ]
        }
      ],
      "source": [
        "x = tf.Variable(1.0)\n",
        "\n",
        "with tf.GradientTape() as tape_2:\n",
        "    with tf.GradientTape() as tape_1:\n",
        "        y = x * x * x\n",
        "\n",
        "        dy_dx = tape_1.gradient(y, x)\n",
        "        \n",
        "    # this is also acceptable\n",
        "    d2y_dx2 = tape_2.gradient(dy_dx, x)\n",
        "\n",
        "print(dy_dx)\n",
        "print(d2y_dx2)"
      ]
    },
    {
      "cell_type": "markdown",
      "metadata": {
        "id": "FAV8IVuTGRhJ"
      },
      "source": [
        "This is also acceptable"
      ]
    },
    {
      "cell_type": "code",
      "execution_count": 14,
      "metadata": {
        "id": "08ikdS6gGRhJ",
        "outputId": "679b0485-f27c-44da-9f0c-03415f2833c1",
        "colab": {
          "base_uri": "https://localhost:8080/"
        }
      },
      "outputs": [
        {
          "output_type": "stream",
          "name": "stdout",
          "text": [
            "tf.Tensor(3.0, shape=(), dtype=float32)\n",
            "tf.Tensor(6.0, shape=(), dtype=float32)\n"
          ]
        }
      ],
      "source": [
        "x = tf.Variable(1.0)\n",
        "\n",
        "with tf.GradientTape() as tape_2:\n",
        "    with tf.GradientTape() as tape_1:\n",
        "        y = x * x * x\n",
        "\n",
        "        dy_dx = tape_1.gradient(y, x)\n",
        "        \n",
        "# this is also acceptable\n",
        "d2y_dx2 = tape_2.gradient(dy_dx, x)\n",
        "\n",
        "print(dy_dx)\n",
        "print(d2y_dx2)"
      ]
    },
    {
      "cell_type": "markdown",
      "source": [
        "总结来说：低阶导数的计算必须在第一个with内！"
      ],
      "metadata": {
        "id": "CM8dBW9GXMjt"
      }
    }
  ],
  "metadata": {
    "colab": {
      "name": "GradientTapeBasics.ipynb",
      "provenance": [],
      "include_colab_link": true
    },
    "kernelspec": {
      "display_name": "Python 3",
      "language": "python",
      "name": "python3"
    },
    "language_info": {
      "codemirror_mode": {
        "name": "ipython",
        "version": 3
      },
      "file_extension": ".py",
      "mimetype": "text/x-python",
      "name": "python",
      "nbconvert_exporter": "python",
      "pygments_lexer": "ipython3",
      "version": "3.7.6"
    }
  },
  "nbformat": 4,
  "nbformat_minor": 0
}