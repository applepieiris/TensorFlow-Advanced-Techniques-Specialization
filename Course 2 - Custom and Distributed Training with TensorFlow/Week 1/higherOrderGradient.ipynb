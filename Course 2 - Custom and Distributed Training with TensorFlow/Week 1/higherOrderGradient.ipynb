{
  "cells": [
    {
      "cell_type": "code",
      "execution_count": null,
      "metadata": {
        "id": "CdnziduAv432"
      },
      "outputs": [],
      "source": [
        "import tensorflow as tf\n",
        "print(\"Version of tensorflow is : \",tf.__version__)\n",
        "import numpy as np"
      ]
    },
    {
      "cell_type": "code",
      "execution_count": 3,
      "metadata": {
        "colab": {
          "base_uri": "https://localhost:8080/"
        },
        "id": "SlaaZsIjwNUM",
        "outputId": "f990c7e8-b1a2-4e26-9858-6adf7c9fa1c1"
      },
      "outputs": [
        {
          "name": "stdout",
          "output_type": "stream",
          "text": [
            "Value of dx :  [[8.]]\n",
            "dx   :  tf.Tensor([[8.]], shape=(1, 1), dtype=float32)\n",
            "loss : tf.Tensor([[16.]], shape=(1, 1), dtype=float32)\n"
          ]
        }
      ],
      "source": [
        "x = tf.Variable([[4.0]])\n",
        "with tf.GradientTape() as tape:\n",
        "    loss = tf.square(x)\n",
        "dx = tape.gradient(loss , x)\n",
        "print(\"Value of dx : \",dx.numpy())\n",
        "print(\"dx   : \",dx)\n",
        "print(\"loss :\" , loss)"
      ]
    },
    {
      "cell_type": "code",
      "execution_count": 4,
      "metadata": {
        "colab": {
          "base_uri": "https://localhost:8080/"
        },
        "id": "-0dM_yX7w0rM",
        "outputId": "341974a0-a1e9-47f1-d5c7-b2a242a330c3"
      },
      "outputs": [
        {
          "name": "stdout",
          "output_type": "stream",
          "text": [
            "Value of dx :  [8.]\n",
            "dx   :  tf.Tensor([8.], shape=(1,), dtype=float32)\n",
            "loss : tf.Tensor([16.], shape=(1,), dtype=float32)\n"
          ]
        }
      ],
      "source": [
        "x = tf.Variable([4.0])\n",
        "with tf.GradientTape() as tape:\n",
        "    loss = tf.square(x)\n",
        "dx = tape.gradient(loss , x)\n",
        "print(\"Value of dx : \",dx.numpy())\n",
        "print(\"dx   : \",dx)\n",
        "print(\"loss :\" , loss)"
      ]
    },
    {
      "cell_type": "code",
      "execution_count": 5,
      "metadata": {
        "colab": {
          "base_uri": "https://localhost:8080/"
        },
        "id": "5Mjd4OcPw-oQ",
        "outputId": "81ea6383-2d65-48b4-9ea1-a6b9d6bcba80"
      },
      "outputs": [
        {
          "name": "stdout",
          "output_type": "stream",
          "text": [
            "Value of dx :  8.0\n",
            "dx   :  tf.Tensor(8.0, shape=(), dtype=float32)\n",
            "loss : tf.Tensor(16.0, shape=(), dtype=float32)\n"
          ]
        }
      ],
      "source": [
        "x = tf.Variable(4.0)\n",
        "with tf.GradientTape() as tape:\n",
        "    loss = tf.square(x)\n",
        "dx = tape.gradient(loss , x)\n",
        "print(\"Value of dx : \",dx.numpy())\n",
        "print(\"dx   : \",dx)\n",
        "print(\"loss :\" , loss)"
      ]
    },
    {
      "cell_type": "code",
      "execution_count": 6,
      "metadata": {
        "colab": {
          "base_uri": "https://localhost:8080/"
        },
        "id": "LG7BHKG1xBkQ",
        "outputId": "a63ba32a-83d2-47a5-f430-75cda12cae64"
      },
      "outputs": [
        {
          "name": "stdout",
          "output_type": "stream",
          "text": [
            "dz_dx :  tf.Tensor(\n",
            "[[8. 8.]\n",
            " [8. 8.]], shape=(2, 2), dtype=float32)\n",
            "z :  tf.Tensor(16.0, shape=(), dtype=float32)\n",
            "y :  tf.Tensor(4.0, shape=(), dtype=float32)\n",
            "x :  tf.Tensor(\n",
            "[[1. 1.]\n",
            " [1. 1.]], shape=(2, 2), dtype=float32)\n"
          ]
        }
      ],
      "source": [
        "x = tf.ones((2,2))\n",
        "with tf.GradientTape() as t:\n",
        "    t.watch(x)\n",
        "    y = tf.reduce_sum(x)\n",
        "    z = tf.square(y)\n",
        "dz_dx = t.gradient(z , x)\n",
        "print(\"dz_dx : \",dz_dx)\n",
        "print(\"z : \",z)\n",
        "print(\"y : \",y)\n",
        "print(\"x : \",x)"
      ]
    },
    {
      "cell_type": "markdown",
      "metadata": {
        "id": "dxoTy7oyzTPK"
      },
      "source": [
        "**Persistent & Higher_order derivatives**"
      ]
    },
    {
      "cell_type": "code",
      "execution_count": 13,
      "metadata": {
        "colab": {
          "base_uri": "https://localhost:8080/"
        },
        "id": "7Y-Mk4xwxgvR",
        "outputId": "072c5bc8-071c-41a8-ad3e-e4632e9ed86d"
      },
      "outputs": [
        {
          "name": "stdout",
          "output_type": "stream",
          "text": [
            "dy_dx :  tf.Tensor(4.0, shape=(), dtype=float32)\n",
            "dz_dx :  tf.Tensor(32.0, shape=(), dtype=float32)\n",
            "dz_dy :  tf.Tensor(8.0, shape=(), dtype=float32)\n",
            "d2y_dx2 :  None\n"
          ]
        }
      ],
      "source": [
        "x = tf.Variable(2.0)\n",
        "with tf.GradientTape(persistent=True) as t: #GradientTape.gradient can only be called once on non-persistent tapes.(if don't use persistent=True)\n",
        "    t.watch(x)\n",
        "    y = x * x\n",
        "    z = y * y\n",
        "print(\"dy_dx : \",t.gradient(y , x))\n",
        "print(\"dz_dx : \",t.gradient(z, x))\n",
        "print(\"dz_dy : \",t.gradient(z , y))\n",
        "print(\"d2y_dx2 : \",t.gradient(t.gradient(y , x) , x))"
      ]
    },
    {
      "cell_type": "code",
      "execution_count": 15,
      "metadata": {
        "colab": {
          "base_uri": "https://localhost:8080/"
        },
        "id": "BbWi37VNzySJ",
        "outputId": "ae478dde-3a4a-4cdd-fa82-0498365eeea0"
      },
      "outputs": [
        {
          "name": "stdout",
          "output_type": "stream",
          "text": [
            "dy_dx   :  tf.Tensor(27.0, shape=(), dtype=float32)\n",
            "d2y_dx2 :  tf.Tensor(18.0, shape=(), dtype=float32)\n"
          ]
        }
      ],
      "source": [
        "x = tf.Variable(3.0)\n",
        "with tf.GradientTape() as t1:\n",
        "    with tf.GradientTape() as t2:\n",
        "        y = x * x * x\n",
        "    dy_dx = t2.gradient(y , x)\n",
        "d2y_dx2 = t1.gradient(dy_dx , x)\n",
        "\n",
        "print(\"dy_dx   : \",dy_dx)\n",
        "print(\"d2y_dx2 : \",d2y_dx2)"
      ]
    }
  ],
  "metadata": {
    "colab": {
      "name": "higherOrderGradient.ipynb",
      "provenance": []
    },
    "kernelspec": {
      "display_name": "base",
      "language": "python",
      "name": "python3"
    },
    "language_info": {
      "name": "python",
      "version": "3.9.10"
    },
    "vscode": {
      "interpreter": {
        "hash": "20c115783511270f812f76a700d03d809984385649272eae625a8ef0834ef776"
      }
    }
  },
  "nbformat": 4,
  "nbformat_minor": 0
}
